{
 "cells": [
  {
   "cell_type": "code",
   "execution_count": 1,
   "metadata": {},
   "outputs": [
    {
     "name": "stdout",
     "output_type": "stream",
     "text": [
      "2.0.1\n"
     ]
    }
   ],
   "source": [
    "from __future__ import absolute_import, division, print_function, unicode_literals\n",
    "\n",
    "import numpy as np\n",
    "import pandas as pd\n",
    "import matplotlib.pyplot as plt\n",
    "\n",
    "import tensorflow as tf\n",
    "\n",
    "from tensorflow import keras\n",
    "from tensorflow.keras import layers\n",
    "\n",
    "print(tf.__version__)"
   ]
  },
  {
   "cell_type": "code",
   "execution_count": 2,
   "metadata": {},
   "outputs": [
    {
     "data": {
      "text/html": [
       "<div>\n",
       "<style scoped>\n",
       "    .dataframe tbody tr th:only-of-type {\n",
       "        vertical-align: middle;\n",
       "    }\n",
       "\n",
       "    .dataframe tbody tr th {\n",
       "        vertical-align: top;\n",
       "    }\n",
       "\n",
       "    .dataframe thead th {\n",
       "        text-align: right;\n",
       "    }\n",
       "</style>\n",
       "<table border=\"1\" class=\"dataframe\">\n",
       "  <thead>\n",
       "    <tr style=\"text-align: right;\">\n",
       "      <th></th>\n",
       "      <th>report_id</th>\n",
       "      <th>report_params</th>\n",
       "      <th>day_part</th>\n",
       "      <th>exec_time</th>\n",
       "    </tr>\n",
       "  </thead>\n",
       "  <tbody>\n",
       "    <tr>\n",
       "      <th>0</th>\n",
       "      <td>1</td>\n",
       "      <td>5</td>\n",
       "      <td>2</td>\n",
       "      <td>380</td>\n",
       "    </tr>\n",
       "    <tr>\n",
       "      <th>1</th>\n",
       "      <td>1</td>\n",
       "      <td>4</td>\n",
       "      <td>3</td>\n",
       "      <td>450</td>\n",
       "    </tr>\n",
       "    <tr>\n",
       "      <th>2</th>\n",
       "      <td>1</td>\n",
       "      <td>8</td>\n",
       "      <td>2</td>\n",
       "      <td>380</td>\n",
       "    </tr>\n",
       "    <tr>\n",
       "      <th>3</th>\n",
       "      <td>1</td>\n",
       "      <td>6</td>\n",
       "      <td>1</td>\n",
       "      <td>320</td>\n",
       "    </tr>\n",
       "    <tr>\n",
       "      <th>4</th>\n",
       "      <td>1</td>\n",
       "      <td>2</td>\n",
       "      <td>2</td>\n",
       "      <td>391</td>\n",
       "    </tr>\n",
       "  </tbody>\n",
       "</table>\n",
       "</div>"
      ],
      "text/plain": [
       "   report_id  report_params  day_part  exec_time\n",
       "0          1              5         2        380\n",
       "1          1              4         3        450\n",
       "2          1              8         2        380\n",
       "3          1              6         1        320\n",
       "4          1              2         2        391"
      ]
     },
     "execution_count": 2,
     "metadata": {},
     "output_type": "execute_result"
    }
   ],
   "source": [
    "# read training data\n",
    "# report_id - ID to identify report\n",
    "# report_params - number of parameters to execute report (when more params specified - report will be generated faster)\n",
    "# day_part - when report is executed (morning, midday or afternoon) - there is less load in the morning and in the afternoon reports are generated slower\n",
    "# exec_time - time spent to produce report\n",
    "\n",
    "column_names = ['report_id','report_params','day_part','exec_time']\n",
    "raw_dataframe = pd.read_csv('train/local-test/test_dir/input/report_exec_times.csv')\n",
    "dataframe = raw_dataframe.copy()\n",
    "\n",
    "dataframe.head()"
   ]
  },
  {
   "cell_type": "code",
   "execution_count": 3,
   "metadata": {},
   "outputs": [],
   "source": [
    "# report_id and day_part are categorical features. This means we need to encode these two attributes\n",
    "\n",
    "report_id = dataframe.pop('report_id')\n",
    "day_part = dataframe.pop('day_part')"
   ]
  },
  {
   "cell_type": "code",
   "execution_count": 4,
   "metadata": {},
   "outputs": [
    {
     "data": {
      "text/html": [
       "<div>\n",
       "<style scoped>\n",
       "    .dataframe tbody tr th:only-of-type {\n",
       "        vertical-align: middle;\n",
       "    }\n",
       "\n",
       "    .dataframe tbody tr th {\n",
       "        vertical-align: top;\n",
       "    }\n",
       "\n",
       "    .dataframe thead th {\n",
       "        text-align: right;\n",
       "    }\n",
       "</style>\n",
       "<table border=\"1\" class=\"dataframe\">\n",
       "  <thead>\n",
       "    <tr style=\"text-align: right;\">\n",
       "      <th></th>\n",
       "      <th>report_params</th>\n",
       "      <th>exec_time</th>\n",
       "      <th>report_1</th>\n",
       "      <th>report_2</th>\n",
       "      <th>report_3</th>\n",
       "      <th>report_4</th>\n",
       "      <th>report_5</th>\n",
       "      <th>day_morning</th>\n",
       "      <th>day_midday</th>\n",
       "      <th>day_afternoon</th>\n",
       "    </tr>\n",
       "  </thead>\n",
       "  <tbody>\n",
       "    <tr>\n",
       "      <th>0</th>\n",
       "      <td>5</td>\n",
       "      <td>380</td>\n",
       "      <td>1.0</td>\n",
       "      <td>0.0</td>\n",
       "      <td>0.0</td>\n",
       "      <td>0.0</td>\n",
       "      <td>0.0</td>\n",
       "      <td>0.0</td>\n",
       "      <td>1.0</td>\n",
       "      <td>0.0</td>\n",
       "    </tr>\n",
       "    <tr>\n",
       "      <th>1</th>\n",
       "      <td>4</td>\n",
       "      <td>450</td>\n",
       "      <td>1.0</td>\n",
       "      <td>0.0</td>\n",
       "      <td>0.0</td>\n",
       "      <td>0.0</td>\n",
       "      <td>0.0</td>\n",
       "      <td>0.0</td>\n",
       "      <td>0.0</td>\n",
       "      <td>1.0</td>\n",
       "    </tr>\n",
       "    <tr>\n",
       "      <th>2</th>\n",
       "      <td>8</td>\n",
       "      <td>380</td>\n",
       "      <td>1.0</td>\n",
       "      <td>0.0</td>\n",
       "      <td>0.0</td>\n",
       "      <td>0.0</td>\n",
       "      <td>0.0</td>\n",
       "      <td>0.0</td>\n",
       "      <td>1.0</td>\n",
       "      <td>0.0</td>\n",
       "    </tr>\n",
       "    <tr>\n",
       "      <th>3</th>\n",
       "      <td>6</td>\n",
       "      <td>320</td>\n",
       "      <td>1.0</td>\n",
       "      <td>0.0</td>\n",
       "      <td>0.0</td>\n",
       "      <td>0.0</td>\n",
       "      <td>0.0</td>\n",
       "      <td>1.0</td>\n",
       "      <td>0.0</td>\n",
       "      <td>0.0</td>\n",
       "    </tr>\n",
       "    <tr>\n",
       "      <th>4</th>\n",
       "      <td>2</td>\n",
       "      <td>391</td>\n",
       "      <td>1.0</td>\n",
       "      <td>0.0</td>\n",
       "      <td>0.0</td>\n",
       "      <td>0.0</td>\n",
       "      <td>0.0</td>\n",
       "      <td>0.0</td>\n",
       "      <td>1.0</td>\n",
       "      <td>0.0</td>\n",
       "    </tr>\n",
       "  </tbody>\n",
       "</table>\n",
       "</div>"
      ],
      "text/plain": [
       "   report_params  exec_time  report_1  report_2  report_3  report_4  report_5  \\\n",
       "0              5        380       1.0       0.0       0.0       0.0       0.0   \n",
       "1              4        450       1.0       0.0       0.0       0.0       0.0   \n",
       "2              8        380       1.0       0.0       0.0       0.0       0.0   \n",
       "3              6        320       1.0       0.0       0.0       0.0       0.0   \n",
       "4              2        391       1.0       0.0       0.0       0.0       0.0   \n",
       "\n",
       "   day_morning  day_midday  day_afternoon  \n",
       "0          0.0         1.0            0.0  \n",
       "1          0.0         0.0            1.0  \n",
       "2          0.0         1.0            0.0  \n",
       "3          1.0         0.0            0.0  \n",
       "4          0.0         1.0            0.0  "
      ]
     },
     "execution_count": 4,
     "metadata": {},
     "output_type": "execute_result"
    }
   ],
   "source": [
    "# Encoding categorical attributes (creating as many columns as there are unique values and assigning 1 for the column from current row value)\n",
    "\n",
    "dataframe['report_1'] = (report_id == 1)*1.0\n",
    "dataframe['report_2'] = (report_id == 2)*1.0\n",
    "dataframe['report_3'] = (report_id == 3)*1.0\n",
    "dataframe['report_4'] = (report_id == 4)*1.0\n",
    "dataframe['report_5'] = (report_id == 5)*1.0\n",
    "\n",
    "dataframe['day_morning'] = (day_part == 1)*1.0\n",
    "dataframe['day_midday'] = (day_part == 2)*1.0\n",
    "dataframe['day_afternoon'] = (day_part == 3)*1.0\n",
    "\n",
    "dataframe.head()"
   ]
  },
  {
   "cell_type": "code",
   "execution_count": 5,
   "metadata": {},
   "outputs": [
    {
     "data": {
      "text/plain": [
       "(1200, 10)"
      ]
     },
     "execution_count": 5,
     "metadata": {},
     "output_type": "execute_result"
    }
   ],
   "source": [
    "# Splitting training dataset into train (80%) and test data\n",
    "\n",
    "train_dataset = dataframe.sample(frac=0.8,random_state=0)\n",
    "test_dataset = dataframe.drop(train_dataset.index)\n",
    "\n",
    "train_dataset.shape"
   ]
  },
  {
   "cell_type": "code",
   "execution_count": 6,
   "metadata": {},
   "outputs": [
    {
     "data": {
      "text/plain": [
       "(300, 10)"
      ]
     },
     "execution_count": 6,
     "metadata": {},
     "output_type": "execute_result"
    }
   ],
   "source": [
    "test_dataset.shape"
   ]
  },
  {
   "cell_type": "code",
   "execution_count": 7,
   "metadata": {},
   "outputs": [
    {
     "data": {
      "text/html": [
       "<div>\n",
       "<style scoped>\n",
       "    .dataframe tbody tr th:only-of-type {\n",
       "        vertical-align: middle;\n",
       "    }\n",
       "\n",
       "    .dataframe tbody tr th {\n",
       "        vertical-align: top;\n",
       "    }\n",
       "\n",
       "    .dataframe thead th {\n",
       "        text-align: right;\n",
       "    }\n",
       "</style>\n",
       "<table border=\"1\" class=\"dataframe\">\n",
       "  <thead>\n",
       "    <tr style=\"text-align: right;\">\n",
       "      <th></th>\n",
       "      <th>count</th>\n",
       "      <th>mean</th>\n",
       "      <th>std</th>\n",
       "      <th>min</th>\n",
       "      <th>25%</th>\n",
       "      <th>50%</th>\n",
       "      <th>75%</th>\n",
       "      <th>max</th>\n",
       "    </tr>\n",
       "  </thead>\n",
       "  <tbody>\n",
       "    <tr>\n",
       "      <th>report_params</th>\n",
       "      <td>1200.0</td>\n",
       "      <td>4.914167</td>\n",
       "      <td>3.159924</td>\n",
       "      <td>0.0</td>\n",
       "      <td>2.0</td>\n",
       "      <td>5.0</td>\n",
       "      <td>8.0</td>\n",
       "      <td>10.0</td>\n",
       "    </tr>\n",
       "    <tr>\n",
       "      <th>report_1</th>\n",
       "      <td>1200.0</td>\n",
       "      <td>0.191667</td>\n",
       "      <td>0.393776</td>\n",
       "      <td>0.0</td>\n",
       "      <td>0.0</td>\n",
       "      <td>0.0</td>\n",
       "      <td>0.0</td>\n",
       "      <td>1.0</td>\n",
       "    </tr>\n",
       "    <tr>\n",
       "      <th>report_2</th>\n",
       "      <td>1200.0</td>\n",
       "      <td>0.210000</td>\n",
       "      <td>0.407478</td>\n",
       "      <td>0.0</td>\n",
       "      <td>0.0</td>\n",
       "      <td>0.0</td>\n",
       "      <td>0.0</td>\n",
       "      <td>1.0</td>\n",
       "    </tr>\n",
       "    <tr>\n",
       "      <th>report_3</th>\n",
       "      <td>1200.0</td>\n",
       "      <td>0.192500</td>\n",
       "      <td>0.394428</td>\n",
       "      <td>0.0</td>\n",
       "      <td>0.0</td>\n",
       "      <td>0.0</td>\n",
       "      <td>0.0</td>\n",
       "      <td>1.0</td>\n",
       "    </tr>\n",
       "    <tr>\n",
       "      <th>report_4</th>\n",
       "      <td>1200.0</td>\n",
       "      <td>0.201667</td>\n",
       "      <td>0.401412</td>\n",
       "      <td>0.0</td>\n",
       "      <td>0.0</td>\n",
       "      <td>0.0</td>\n",
       "      <td>0.0</td>\n",
       "      <td>1.0</td>\n",
       "    </tr>\n",
       "    <tr>\n",
       "      <th>report_5</th>\n",
       "      <td>1200.0</td>\n",
       "      <td>0.204167</td>\n",
       "      <td>0.403259</td>\n",
       "      <td>0.0</td>\n",
       "      <td>0.0</td>\n",
       "      <td>0.0</td>\n",
       "      <td>0.0</td>\n",
       "      <td>1.0</td>\n",
       "    </tr>\n",
       "    <tr>\n",
       "      <th>day_morning</th>\n",
       "      <td>1200.0</td>\n",
       "      <td>0.360000</td>\n",
       "      <td>0.480200</td>\n",
       "      <td>0.0</td>\n",
       "      <td>0.0</td>\n",
       "      <td>0.0</td>\n",
       "      <td>1.0</td>\n",
       "      <td>1.0</td>\n",
       "    </tr>\n",
       "    <tr>\n",
       "      <th>day_midday</th>\n",
       "      <td>1200.0</td>\n",
       "      <td>0.320833</td>\n",
       "      <td>0.466991</td>\n",
       "      <td>0.0</td>\n",
       "      <td>0.0</td>\n",
       "      <td>0.0</td>\n",
       "      <td>1.0</td>\n",
       "      <td>1.0</td>\n",
       "    </tr>\n",
       "    <tr>\n",
       "      <th>day_afternoon</th>\n",
       "      <td>1200.0</td>\n",
       "      <td>0.319167</td>\n",
       "      <td>0.466348</td>\n",
       "      <td>0.0</td>\n",
       "      <td>0.0</td>\n",
       "      <td>0.0</td>\n",
       "      <td>1.0</td>\n",
       "      <td>1.0</td>\n",
       "    </tr>\n",
       "  </tbody>\n",
       "</table>\n",
       "</div>"
      ],
      "text/plain": [
       "                count      mean       std  min  25%  50%  75%   max\n",
       "report_params  1200.0  4.914167  3.159924  0.0  2.0  5.0  8.0  10.0\n",
       "report_1       1200.0  0.191667  0.393776  0.0  0.0  0.0  0.0   1.0\n",
       "report_2       1200.0  0.210000  0.407478  0.0  0.0  0.0  0.0   1.0\n",
       "report_3       1200.0  0.192500  0.394428  0.0  0.0  0.0  0.0   1.0\n",
       "report_4       1200.0  0.201667  0.401412  0.0  0.0  0.0  0.0   1.0\n",
       "report_5       1200.0  0.204167  0.403259  0.0  0.0  0.0  0.0   1.0\n",
       "day_morning    1200.0  0.360000  0.480200  0.0  0.0  0.0  1.0   1.0\n",
       "day_midday     1200.0  0.320833  0.466991  0.0  0.0  0.0  1.0   1.0\n",
       "day_afternoon  1200.0  0.319167  0.466348  0.0  0.0  0.0  1.0   1.0"
      ]
     },
     "execution_count": 7,
     "metadata": {},
     "output_type": "execute_result"
    }
   ],
   "source": [
    "# Describe train dataset, without target feature - exec_time. Mean and std will be used to normalize training data\n",
    "\n",
    "train_stats = train_dataset.describe()\n",
    "train_stats.pop(\"exec_time\")\n",
    "train_stats = train_stats.transpose()\n",
    "train_stats"
   ]
  },
  {
   "cell_type": "code",
   "execution_count": 9,
   "metadata": {},
   "outputs": [
    {
     "data": {
      "text/plain": [
       "report_params    4.914167\n",
       "report_1         0.191667\n",
       "report_2         0.210000\n",
       "report_3         0.192500\n",
       "report_4         0.201667\n",
       "report_5         0.204167\n",
       "day_morning      0.360000\n",
       "day_midday       0.320833\n",
       "day_afternoon    0.319167\n",
       "Name: mean, dtype: float64"
      ]
     },
     "execution_count": 9,
     "metadata": {},
     "output_type": "execute_result"
    }
   ],
   "source": [
    "train_stats_mean = train_stats['mean']\n",
    "#print('train_stats_mean:', train_stats_mean)\n",
    "train_stats_mean"
   ]
  },
  {
   "cell_type": "code",
   "execution_count": 10,
   "metadata": {},
   "outputs": [
    {
     "data": {
      "text/plain": [
       "report_params    3.159924\n",
       "report_1         0.393776\n",
       "report_2         0.407478\n",
       "report_3         0.394428\n",
       "report_4         0.401412\n",
       "report_5         0.403259\n",
       "day_morning      0.480200\n",
       "day_midday       0.466991\n",
       "day_afternoon    0.466348\n",
       "Name: std, dtype: float64"
      ]
     },
     "execution_count": 10,
     "metadata": {},
     "output_type": "execute_result"
    }
   ],
   "source": [
    "train_stats_std = train_stats['std']\n",
    "train_stats_std"
   ]
  },
  {
   "cell_type": "code",
   "execution_count": null,
   "metadata": {},
   "outputs": [],
   "source": [
    "# Remove exec_time feature from training data and keep it as a target for both training and testing\n",
    "\n",
    "train_labels = train_dataset.pop('exec_time')\n",
    "test_labels = test_dataset.pop('exec_time')\n",
    "\n",
    "train_labels = np.array(train_labels)\n",
    "test_labels = np.array(test_labels)"
   ]
  },
  {
   "cell_type": "code",
   "execution_count": null,
   "metadata": {},
   "outputs": [],
   "source": []
  },
  {
   "cell_type": "code",
   "execution_count": null,
   "metadata": {},
   "outputs": [],
   "source": [
    "# Neural network learns better, when data is normalized (features look similar to each other)\n",
    "\n",
    "def norm(x):\n",
    "  return (x - train_stats['mean']) / train_stats['std']\n",
    "\n",
    "normed_train_data = norm(train_dataset)\n",
    "normed_test_data = norm(test_dataset)\n",
    "\n",
    "normed_train_data = np.array(normed_train_data)\n",
    "normed_test_data = np.array(normed_test_data)"
   ]
  },
  {
   "cell_type": "code",
   "execution_count": null,
   "metadata": {},
   "outputs": [],
   "source": [
    "# Construct neural network with Keras API on top of TensorFlow. SGD optimizer and \n",
    "# mean squared error loss to check training quality\n",
    "\n",
    "def build_model():\n",
    "  model = keras.Sequential([\n",
    "    layers.Dense(16, activation='relu', input_shape=[len(train_dataset.keys())]),\n",
    "    layers.Dense(16, activation='relu'),\n",
    "    layers.Dense(1)\n",
    "  ])\n",
    "\n",
    "  optimizer = keras.optimizers.RMSprop(0.001)\n",
    "\n",
    "  model.compile(loss='mse',\n",
    "                optimizer=optimizer,\n",
    "                metrics=['mae', 'mse'])\n",
    "  return model"
   ]
  },
  {
   "cell_type": "code",
   "execution_count": null,
   "metadata": {},
   "outputs": [],
   "source": [
    "model = build_model()"
   ]
  },
  {
   "cell_type": "code",
   "execution_count": null,
   "metadata": {},
   "outputs": [],
   "source": [
    "model.summary()"
   ]
  },
  {
   "cell_type": "code",
   "execution_count": null,
   "metadata": {},
   "outputs": [],
   "source": [
    "EPOCHS = 1000\n",
    "\n",
    "# The patience parameter is the amount of epochs to check for improvement\n",
    "early_stop = keras.callbacks.EarlyStopping(monitor='val_loss', patience=10)\n",
    "\n",
    "history = model.fit(normed_train_data, train_labels, epochs=EPOCHS,\n",
    "                    validation_split=0.2, batch_size=40, verbose=1, callbacks=[early_stop])"
   ]
  },
  {
   "cell_type": "code",
   "execution_count": null,
   "metadata": {},
   "outputs": [],
   "source": [
    "def plot_history(history):\n",
    "  hist = pd.DataFrame(history.history)\n",
    "  hist['epoch'] = history.epoch\n",
    "\n",
    "  plt.figure()\n",
    "  plt.xlabel('Epoch')\n",
    "  plt.ylabel('Mean Abs Error [ReportTime]')\n",
    "  plt.plot(hist['epoch'], hist['mae'],\n",
    "           label='Train Error')\n",
    "  plt.plot(hist['epoch'], hist['val_mae'],\n",
    "           label = 'Val Error')\n",
    "  plt.ylim([0,20])\n",
    "  plt.legend()\n",
    "\n",
    "  plt.figure()\n",
    "  plt.xlabel('Epoch')\n",
    "  plt.ylabel('Mean Square Error [$ReportTime^2$]')\n",
    "  plt.plot(hist['epoch'], hist['mse'],\n",
    "           label='Train Error')\n",
    "  plt.plot(hist['epoch'], hist['val_mse'],\n",
    "           label = 'Val Error')\n",
    "  plt.ylim([0,50])\n",
    "  plt.legend()\n",
    "  plt.show()\n",
    "\n",
    "\n",
    "plot_history(history)"
   ]
  },
  {
   "cell_type": "code",
   "execution_count": null,
   "metadata": {},
   "outputs": [],
   "source": [
    "loss, mae, mse = model.evaluate(normed_test_data, test_labels, verbose=0)\n",
    "\n",
    "print(\"Testing set Mean Abs Error: {:5.2f} Report Execution Time\".format(mae))"
   ]
  },
  {
   "cell_type": "code",
   "execution_count": null,
   "metadata": {},
   "outputs": [],
   "source": [
    "# Construct test data row with \"unseen\" feature values - report_params = 15 \n",
    "\n",
    "headers = ['report_id', 'report_params', 'day_part']\n",
    "dataset_input = pd.DataFrame([[1, 15, 3]],\n",
    "                                columns=headers, \n",
    "                                dtype=float,\n",
    "                                index=['input'])\n",
    "\n",
    "print(dataset_input)"
   ]
  },
  {
   "cell_type": "code",
   "execution_count": null,
   "metadata": {},
   "outputs": [],
   "source": [
    "# Encode categorical features for test data row\n",
    "\n",
    "report_id = dataset_input.pop('report_id')\n",
    "day_part = dataset_input.pop('day_part')\n",
    "\n",
    "dataset_input['report_1'] = (report_id == 1)*1.0\n",
    "dataset_input['report_2'] = (report_id == 2)*1.0\n",
    "dataset_input['report_3'] = (report_id == 3)*1.0\n",
    "dataset_input['report_4'] = (report_id == 4)*1.0\n",
    "dataset_input['report_5'] = (report_id == 5)*1.0\n",
    "\n",
    "dataset_input['day_morning'] = (day_part == 1)*1.0\n",
    "dataset_input['day_midday'] = (day_part == 2)*1.0\n",
    "dataset_input['day_afternoon'] = (day_part == 3)*1.0\n",
    "\n",
    "dataset_input.tail()"
   ]
  },
  {
   "cell_type": "code",
   "execution_count": null,
   "metadata": {},
   "outputs": [],
   "source": [
    "# Normalize test data row\n",
    "\n",
    "normed_dataset_input = norm(dataset_input)\n",
    "normed_dataset_input = np.array(normed_dataset_input)\n",
    "\n",
    "print(normed_dataset_input)"
   ]
  },
  {
   "cell_type": "code",
   "execution_count": null,
   "metadata": {},
   "outputs": [],
   "source": [
    "# Prediction result for report execution time. This is correct, model learns the rule correct - more report params, means execution time will be less\n",
    "\n",
    "res = model.predict(normed_dataset_input)\n",
    "print(res)"
   ]
  },
  {
   "cell_type": "code",
   "execution_count": null,
   "metadata": {},
   "outputs": [],
   "source": [
    "import calendar;\n",
    "import time;\n",
    "ts = calendar.timegm(time.gmtime())\n",
    "\n",
    "tf.saved_model.save(model, \"./model_report_exec_time/\" + str(ts))"
   ]
  },
  {
   "cell_type": "code",
   "execution_count": null,
   "metadata": {},
   "outputs": [],
   "source": []
  }
 ],
 "metadata": {
  "kernelspec": {
   "display_name": "Python 3",
   "language": "python",
   "name": "python3"
  },
  "language_info": {
   "codemirror_mode": {
    "name": "ipython",
    "version": 3
   },
   "file_extension": ".py",
   "mimetype": "text/x-python",
   "name": "python",
   "nbconvert_exporter": "python",
   "pygments_lexer": "ipython3",
   "version": "3.6.8"
  }
 },
 "nbformat": 4,
 "nbformat_minor": 4
}
