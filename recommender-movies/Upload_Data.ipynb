{
 "cells": [
  {
   "cell_type": "markdown",
   "metadata": {},
   "source": [
    "# Load Data"
   ]
  },
  {
   "cell_type": "code",
   "execution_count": 1,
   "metadata": {},
   "outputs": [
    {
     "name": "stdout",
     "output_type": "stream",
     "text": [
      "--2020-03-01 19:00:52--  http://files.grouplens.org/datasets/movielens/ml-20m.zip\n",
      "Resolving files.grouplens.org (files.grouplens.org)... 128.101.65.152\n",
      "Connecting to files.grouplens.org (files.grouplens.org)|128.101.65.152|:80... connected.\n",
      "HTTP request sent, awaiting response... 200 OK\n",
      "Length: 198702078 (189M) [application/zip]\n",
      "Saving to: ‘ml-20m.zip’\n",
      "\n",
      "ml-20m.zip          100%[===================>] 189.50M  11.6MB/s    in 16s     \n",
      "\n",
      "2020-03-01 19:01:09 (11.7 MB/s) - ‘ml-20m.zip’ saved [198702078/198702078]\n",
      "\n"
     ]
    }
   ],
   "source": [
    "# data is from: https://grouplens.org/datasets/movielens/\n",
    "# in case the link changes in the future\n",
    "\n",
    "!wget -nc http://files.grouplens.org/datasets/movielens/ml-20m.zip"
   ]
  },
  {
   "cell_type": "code",
   "execution_count": 2,
   "metadata": {},
   "outputs": [],
   "source": [
    "!mkdir data"
   ]
  },
  {
   "cell_type": "code",
   "execution_count": 3,
   "metadata": {},
   "outputs": [],
   "source": [
    "!mv ml-20m.zip data"
   ]
  },
  {
   "cell_type": "code",
   "execution_count": 4,
   "metadata": {},
   "outputs": [],
   "source": []
  },
  {
   "cell_type": "code",
   "execution_count": 4,
   "metadata": {},
   "outputs": [
    {
     "name": "stdout",
     "output_type": "stream",
     "text": [
      "Archive:  data/ml-20m.zip\n",
      "   creating: data/ml-20m/\n",
      "  inflating: data/ml-20m/genome-scores.csv  \n",
      "  inflating: data/ml-20m/genome-tags.csv  \n",
      "  inflating: data/ml-20m/links.csv   \n",
      "  inflating: data/ml-20m/movies.csv  \n",
      "  inflating: data/ml-20m/ratings.csv  \n",
      "  inflating: data/ml-20m/README.txt  \n",
      "  inflating: data/ml-20m/tags.csv    \n"
     ]
    }
   ],
   "source": [
    "!unzip -n data/ml-20m.zip -d data"
   ]
  },
  {
   "cell_type": "code",
   "execution_count": 6,
   "metadata": {},
   "outputs": [],
   "source": [
    "!mv data/ml-20m/ratings.csv train/local-test/test_dir/input/data"
   ]
  },
  {
   "cell_type": "code",
   "execution_count": null,
   "metadata": {},
   "outputs": [],
   "source": []
  }
 ],
 "metadata": {
  "kernelspec": {
   "display_name": "Python 3",
   "language": "python",
   "name": "python3"
  },
  "language_info": {
   "codemirror_mode": {
    "name": "ipython",
    "version": 3
   },
   "file_extension": ".py",
   "mimetype": "text/x-python",
   "name": "python",
   "nbconvert_exporter": "python",
   "pygments_lexer": "ipython3",
   "version": "3.6.8"
  }
 },
 "nbformat": 4,
 "nbformat_minor": 4
}
