{
 "cells": [
  {
   "cell_type": "code",
   "execution_count": null,
   "metadata": {},
   "outputs": [],
   "source": [
    "!pip install tensorflow==1.15.0"
   ]
  },
  {
   "cell_type": "code",
   "execution_count": 1,
   "metadata": {},
   "outputs": [
    {
     "name": "stdout",
     "output_type": "stream",
     "text": [
      "1.15.0\n"
     ]
    }
   ],
   "source": [
    "import tensorflow as tf\n",
    "print(tf.__version__)"
   ]
  },
  {
   "cell_type": "code",
   "execution_count": 2,
   "metadata": {},
   "outputs": [
    {
     "name": "stdout",
     "output_type": "stream",
     "text": [
      "Download from https://www.cs.toronto.edu/~kriz/cifar-10-python.tar.gz and extract.\n",
      "FloatProgress(value=0.0)\n",
      ">> Downloading cifar-10-python.tar.gz \n",
      "Successfully downloaded cifar-10-python.tar.gz 170498071 bytes.\n",
      "Generating /tmp/cifar-10-data/train.tfrecords\n",
      "WARNING:tensorflow:From utils/generate_cifar10_tfrecords.py:99: The name tf.python_io.TFRecordWriter is deprecated. Please use tf.io.TFRecordWriter instead.\n",
      "\n",
      "WARNING:tensorflow:From utils/generate_cifar10_tfrecords.py:88: The name tf.gfile.Open is deprecated. Please use tf.io.gfile.GFile instead.\n",
      "\n",
      "Generating /tmp/cifar-10-data/validation.tfrecords\n",
      "Generating /tmp/cifar-10-data/eval.tfrecords\n",
      "Removing original files.\n",
      "Done!\n"
     ]
    }
   ],
   "source": [
    "! python utils/generate_cifar10_tfrecords.py --data-dir=/tmp/cifar-10-data"
   ]
  },
  {
   "cell_type": "code",
   "execution_count": 3,
   "metadata": {},
   "outputs": [
    {
     "name": "stdout",
     "output_type": "stream",
     "text": [
      "eval.tfrecords\ttrain.tfrecords  validation.tfrecords\n"
     ]
    }
   ],
   "source": [
    "! ls /tmp/cifar-10-data\n"
   ]
  },
  {
   "cell_type": "code",
   "execution_count": 6,
   "metadata": {},
   "outputs": [
    {
     "name": "stdout",
     "output_type": "stream",
     "text": [
      "Login Succeeded\n",
      "Sending build context to Docker daemon  65.02kB\r",
      "\r\n",
      "Step 1/6 : FROM 763104351884.dkr.ecr.us-east-1.amazonaws.com/tensorflow-training:1.14.0-cpu-py36-ubuntu16.04\n",
      " ---> e6a210ff54e4\n",
      "Step 2/6 : RUN apt-get update && apt-get install -y --no-install-recommends nginx curl\n",
      " ---> Using cache\n",
      " ---> 753b7238db78\n",
      "Step 3/6 : RUN pip install gevent gunicorn\n",
      " ---> Using cache\n",
      " ---> 580a91923a0e\n",
      "Step 4/6 : ENV PATH=\"/opt/ml/code:${PATH}\"\n",
      " ---> Using cache\n",
      " ---> e53705fb9f9c\n",
      "Step 5/6 : COPY cifar10 /opt/ml/code\n",
      " ---> Using cache\n",
      " ---> 3d9275e40795\n",
      "Step 6/6 : WORKDIR /opt/ml/code\n",
      " ---> Using cache\n",
      " ---> 8e902332e1d4\n",
      "Successfully built 8e902332e1d4\n",
      "Successfully tagged tf-cifar10-restnet:latest\n",
      "tag finished....\n",
      "The push refers to repository [731833107751.dkr.ecr.us-east-1.amazonaws.com/tf-cifar10-restnet]\n",
      "5434f39cf1a7: Preparing\n",
      "827f3a4d5aea: Preparing\n",
      "3885d700ec51: Preparing\n",
      "cc978a7bbd2a: Preparing\n",
      "3a97a8d562fb: Preparing\n",
      "cb460459ddc8: Preparing\n",
      "b4064660a4cf: Preparing\n",
      "b6e9883adafa: Preparing\n",
      "9ee6d909e5a7: Preparing\n",
      "e722e212cbab: Preparing\n",
      "708ade65e147: Preparing\n",
      "11fc4467b8a3: Preparing\n",
      "0cf88c3675cd: Preparing\n",
      "d456742927ee: Preparing\n",
      "8722c9641a57: Preparing\n",
      "7083756ef61f: Preparing\n",
      "9d2fda619715: Preparing\n",
      "e79142719515: Preparing\n",
      "aeda103e78c9: Preparing\n",
      "2558e637fbff: Preparing\n",
      "f749b9b0fb21: Preparing\n",
      "b6e9883adafa: Waiting\n",
      "8722c9641a57: Waiting\n",
      "9ee6d909e5a7: Waiting\n",
      "7083756ef61f: Waiting\n",
      "e722e212cbab: Waiting\n",
      "9d2fda619715: Waiting\n",
      "708ade65e147: Waiting\n",
      "e79142719515: Waiting\n",
      "11fc4467b8a3: Waiting\n",
      "aeda103e78c9: Waiting\n",
      "0cf88c3675cd: Waiting\n",
      "d456742927ee: Waiting\n",
      "2558e637fbff: Waiting\n",
      "f749b9b0fb21: Waiting\n",
      "cb460459ddc8: Waiting\n",
      "b4064660a4cf: Waiting\n",
      "push finished....\n"
     ]
    },
    {
     "name": "stderr",
     "output_type": "stream",
     "text": [
      "WARNING! Using --password via the CLI is insecure. Use --password-stdin.\n",
      "WARNING! Your password will be stored unencrypted in /home/ec2-user/.docker/config.json.\n",
      "Configure a credential helper to remove this warning. See\n",
      "https://docs.docker.com/engine/reference/commandline/login/#credentials-store\n",
      "\n",
      "denied: User: arn:aws:sts::731833107751:assumed-role/AmazonSageMaker-ExecutionRole-20200129T155117/SageMaker is not authorized to perform: ecr:InitiateLayerUpload on resource: arn:aws:ecr:us-east-1:731833107751:repository/tf-cifar10-restnet\n"
     ]
    }
   ],
   "source": [
    "%%sh\n",
    "\n",
    "#!/usr/bin/env bash\n",
    "\n",
    "# This script shows how to build the Docker image and push it to ECR to be ready for use\n",
    "# by SageMaker.\n",
    "\n",
    "# The argument to this script is the image name. This will be used as the image on the local\n",
    "# machine and combined with the account and region to form the repository name for ECR.\n",
    "image=tf-cifar10-restnet\n",
    "\n",
    "cd train\n",
    "\n",
    "if [ \"$image\" == \"\" ]\n",
    "then\n",
    "    echo \"Usage: $0 <image-name>\"\n",
    "    exit 1\n",
    "fi\n",
    "\n",
    "chmod +x cifar10/train\n",
    "#chmod +x cifar10/serve\n",
    "\n",
    "# Get the account number associated with the current IAM credentials\n",
    "account=$(aws sts get-caller-identity --query Account --output text)\n",
    "\n",
    "if [ $? -ne 0 ]\n",
    "then\n",
    "    exit 255\n",
    "fi\n",
    "\n",
    "\n",
    "# Get the region defined in the current configuration (default to us-west-2 if none defined)\n",
    "region=$(aws configure get region)\n",
    "region=${region:-us-east-1}\n",
    "\n",
    "\n",
    "fullname=\"${account}.dkr.ecr.${region}.amazonaws.com/${image}:latest\"\n",
    "\n",
    "# If the repository doesn't exist in ECR, create it.\n",
    "\n",
    "\n",
    "aws ecr describe-repositories --repository-names \"${image}\" > /dev/null 2>&1\n",
    "\n",
    "if [ $? -ne 0 ]\n",
    "then\n",
    "    aws ecr create-repository --repository-name \"${image}\" > /dev/null\n",
    "fi\n",
    "\n",
    "# Get the login command from ECR and execute it directly\n",
    "$(aws ecr get-login --region ${region} --no-include-email)\n",
    "\n",
    "# Build the docker image locally with the image name and then push it to ECR\n",
    "# with the full name.\n",
    "\n",
    "docker build  -t ${image} .\n",
    "docker tag ${image} ${fullname}\n",
    "\n",
    "echo \"tag finished....\"\n",
    "\n",
    "docker push ${fullname}\n",
    "\n",
    "echo \"push finished....\"\n"
   ]
  },
  {
   "cell_type": "code",
   "execution_count": null,
   "metadata": {},
   "outputs": [],
   "source": []
  }
 ],
 "metadata": {
  "kernelspec": {
   "display_name": "conda_tensorflow_p36",
   "language": "python",
   "name": "conda_tensorflow_p36"
  },
  "language_info": {
   "codemirror_mode": {
    "name": "ipython",
    "version": 3
   },
   "file_extension": ".py",
   "mimetype": "text/x-python",
   "name": "python",
   "nbconvert_exporter": "python",
   "pygments_lexer": "ipython3",
   "version": "3.6.5"
  }
 },
 "nbformat": 4,
 "nbformat_minor": 4
}
